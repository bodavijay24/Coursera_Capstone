{
  "nbformat": 4,
  "nbformat_minor": 0,
  "metadata": {
    "colab": {
      "name": "Copy of Week3-1.ipynb",
      "version": "0.3.2",
      "provenance": [],
      "include_colab_link": true
    },
    "language_info": {
      "codemirror_mode": {
        "name": "ipython",
        "version": 3
      },
      "file_extension": ".py",
      "mimetype": "text/x-python",
      "name": "python",
      "nbconvert_exporter": "python",
      "pygments_lexer": "ipython3",
      "version": "3.6.5"
    },
    "kernelspec": {
      "display_name": "Python 3",
      "language": "python",
      "name": "python3"
    }
  },
  "cells": [
    {
      "cell_type": "markdown",
      "metadata": {
        "id": "view-in-github",
        "colab_type": "text"
      },
      "source": [
        "<a href=\"https://colab.research.google.com/github/bodavijay24/Coursera_Capstone/blob/master/Week3_1.ipynb\" target=\"_parent\"><img src=\"https://colab.research.google.com/assets/colab-badge.svg\" alt=\"Open In Colab\"/></a>"
      ]
    },
    {
      "metadata": {
        "id": "xLBeabIv8Eiw",
        "colab_type": "text"
      },
      "cell_type": "markdown",
      "source": [
        "# Peer-graded Assignment: Week 3 Part 1\n",
        "\n",
        "### For Capstone Project"
      ]
    },
    {
      "metadata": {
        "id": "-nwXXvQM8Eix",
        "colab_type": "text"
      },
      "cell_type": "markdown",
      "source": [
        "### 1. Setting up the environment"
      ]
    },
    {
      "metadata": {
        "id": "9eMzJcpr8Eiy",
        "colab_type": "code",
        "outputId": "d33cd263-eeef-4f9f-f173-b8e5c3a0165a",
        "colab": {
          "base_uri": "https://localhost:8080/",
          "height": 34
        }
      },
      "cell_type": "code",
      "source": [
        "import numpy as np\n",
        "import pandas as pd\n",
        "pd.set_option('display.max_columns', None)\n",
        "pd.set_option('display.max_rows', None)\n",
        "\n",
        "import json\n",
        "\n",
        "#!conda install -c conda-forge geopy --yes\n",
        "from geopy.geocoders import Nominatim\n",
        "\n",
        "from bs4 import BeautifulSoup\n",
        "from urllib.request import urlopen\n",
        "import requests\n",
        "from pandas.io.json import json_normalize\n",
        "\n",
        "import matplotlib.cm as cm\n",
        "import matplotlib.colors as colors\n",
        "\n",
        "from sklearn.cluster import KMeans\n",
        "\n",
        "#!conda install -c conda-forge folium=0.5.0 --yes\n",
        "import folium\n",
        "\n",
        "print('Libraries imported.')"
      ],
      "execution_count": 1,
      "outputs": [
        {
          "output_type": "stream",
          "text": [
            "Libraries imported.\n"
          ],
          "name": "stdout"
        }
      ]
    },
    {
      "metadata": {
        "id": "6nADfJ3z8Ei4",
        "colab_type": "text"
      },
      "cell_type": "markdown",
      "source": [
        "### 2. Parsing the html"
      ]
    },
    {
      "metadata": {
        "id": "RwibZl2N8Ei5",
        "colab_type": "code",
        "colab": {}
      },
      "cell_type": "code",
      "source": [
        "url = 'https://en.wikipedia.org/wiki/List_of_postal_codes_of_Canada:_M'\n",
        "page = urlopen(url).read().decode('utf-8')\n",
        "soup = BeautifulSoup(page, 'html.parser')\n",
        "\n",
        "wiki_table = soup.body.table.tbody"
      ],
      "execution_count": 0,
      "outputs": []
    },
    {
      "metadata": {
        "id": "eQ0zmIR38Ei8",
        "colab_type": "text"
      },
      "cell_type": "markdown",
      "source": [
        "### 3. Extracting data from the table to the data frame"
      ]
    },
    {
      "metadata": {
        "id": "xBT5NJ0H8Ei9",
        "colab_type": "code",
        "colab": {}
      },
      "cell_type": "code",
      "source": [
        "def get_cell(element):\n",
        "    cells = element.find_all('td')\n",
        "    row = []\n",
        "    \n",
        "    for cell in cells:\n",
        "        if cell.a:            \n",
        "            if (cell.a.text):\n",
        "                row.append(cell.a.text)\n",
        "                continue\n",
        "        row.append(cell.string.strip())\n",
        "        \n",
        "    return row"
      ],
      "execution_count": 0,
      "outputs": []
    },
    {
      "metadata": {
        "id": "vMG0piko8EjA",
        "colab_type": "code",
        "colab": {}
      },
      "cell_type": "code",
      "source": [
        "def get_row():    \n",
        "    data = []  \n",
        "    \n",
        "    for tr in wiki_table.find_all('tr'):\n",
        "        row = get_cell(tr)\n",
        "        if len(row) != 3:\n",
        "            continue\n",
        "        data.append(row)        \n",
        "    \n",
        "    return data"
      ],
      "execution_count": 0,
      "outputs": []
    },
    {
      "metadata": {
        "id": "I-53rdqq8EjD",
        "colab_type": "code",
        "outputId": "e8b442b5-68f1-48b4-f0d1-94bc00f1f72c",
        "colab": {
          "base_uri": "https://localhost:8080/",
          "height": 204
        }
      },
      "cell_type": "code",
      "source": [
        "data = get_row()\n",
        "columns = ['Postcode', 'Borough', 'Neighbourhood']\n",
        "df = pd.DataFrame(data, columns=columns)\n",
        "df.head()"
      ],
      "execution_count": 5,
      "outputs": [
        {
          "output_type": "execute_result",
          "data": {
            "text/html": [
              "<div>\n",
              "<style scoped>\n",
              "    .dataframe tbody tr th:only-of-type {\n",
              "        vertical-align: middle;\n",
              "    }\n",
              "\n",
              "    .dataframe tbody tr th {\n",
              "        vertical-align: top;\n",
              "    }\n",
              "\n",
              "    .dataframe thead th {\n",
              "        text-align: right;\n",
              "    }\n",
              "</style>\n",
              "<table border=\"1\" class=\"dataframe\">\n",
              "  <thead>\n",
              "    <tr style=\"text-align: right;\">\n",
              "      <th></th>\n",
              "      <th>Postcode</th>\n",
              "      <th>Borough</th>\n",
              "      <th>Neighbourhood</th>\n",
              "    </tr>\n",
              "  </thead>\n",
              "  <tbody>\n",
              "    <tr>\n",
              "      <th>0</th>\n",
              "      <td>M1A</td>\n",
              "      <td>Not assigned</td>\n",
              "      <td>Not assigned</td>\n",
              "    </tr>\n",
              "    <tr>\n",
              "      <th>1</th>\n",
              "      <td>M2A</td>\n",
              "      <td>Not assigned</td>\n",
              "      <td>Not assigned</td>\n",
              "    </tr>\n",
              "    <tr>\n",
              "      <th>2</th>\n",
              "      <td>M3A</td>\n",
              "      <td>North York</td>\n",
              "      <td>Parkwoods</td>\n",
              "    </tr>\n",
              "    <tr>\n",
              "      <th>3</th>\n",
              "      <td>M4A</td>\n",
              "      <td>North York</td>\n",
              "      <td>Victoria Village</td>\n",
              "    </tr>\n",
              "    <tr>\n",
              "      <th>4</th>\n",
              "      <td>M5A</td>\n",
              "      <td>Downtown Toronto</td>\n",
              "      <td>Harbourfront</td>\n",
              "    </tr>\n",
              "  </tbody>\n",
              "</table>\n",
              "</div>"
            ],
            "text/plain": [
              "  Postcode           Borough     Neighbourhood\n",
              "0      M1A      Not assigned      Not assigned\n",
              "1      M2A      Not assigned      Not assigned\n",
              "2      M3A        North York         Parkwoods\n",
              "3      M4A        North York  Victoria Village\n",
              "4      M5A  Downtown Toronto      Harbourfront"
            ]
          },
          "metadata": {
            "tags": []
          },
          "execution_count": 5
        }
      ]
    },
    {
      "metadata": {
        "id": "EqNsZFVi8EjH",
        "colab_type": "code",
        "outputId": "2c2d3b4a-c276-4d2d-e928-14f2c97f80d1",
        "colab": {
          "base_uri": "https://localhost:8080/",
          "height": 34
        }
      },
      "cell_type": "code",
      "source": [
        "df.shape"
      ],
      "execution_count": 6,
      "outputs": [
        {
          "output_type": "execute_result",
          "data": {
            "text/plain": [
              "(288, 3)"
            ]
          },
          "metadata": {
            "tags": []
          },
          "execution_count": 6
        }
      ]
    },
    {
      "metadata": {
        "id": "fc87xLAC8EjL",
        "colab_type": "text"
      },
      "cell_type": "markdown",
      "source": [
        "### 4. Cleaning the data"
      ]
    },
    {
      "metadata": {
        "id": "r_MoHemg8EjM",
        "colab_type": "code",
        "outputId": "1fc5b702-02c0-4d50-85a4-24232464e147",
        "colab": {
          "base_uri": "https://localhost:8080/",
          "height": 204
        }
      },
      "cell_type": "code",
      "source": [
        "df1 = df[df.Borough != 'Not assigned']\n",
        "df1 = df1.sort_values(by=['Postcode','Borough'])\n",
        "\n",
        "df1.reset_index(inplace=True)\n",
        "df1.drop('index',axis=1,inplace=True)\n",
        "\n",
        "df1.head()"
      ],
      "execution_count": 7,
      "outputs": [
        {
          "output_type": "execute_result",
          "data": {
            "text/html": [
              "<div>\n",
              "<style scoped>\n",
              "    .dataframe tbody tr th:only-of-type {\n",
              "        vertical-align: middle;\n",
              "    }\n",
              "\n",
              "    .dataframe tbody tr th {\n",
              "        vertical-align: top;\n",
              "    }\n",
              "\n",
              "    .dataframe thead th {\n",
              "        text-align: right;\n",
              "    }\n",
              "</style>\n",
              "<table border=\"1\" class=\"dataframe\">\n",
              "  <thead>\n",
              "    <tr style=\"text-align: right;\">\n",
              "      <th></th>\n",
              "      <th>Postcode</th>\n",
              "      <th>Borough</th>\n",
              "      <th>Neighbourhood</th>\n",
              "    </tr>\n",
              "  </thead>\n",
              "  <tbody>\n",
              "    <tr>\n",
              "      <th>0</th>\n",
              "      <td>M1B</td>\n",
              "      <td>Scarborough</td>\n",
              "      <td>Rouge</td>\n",
              "    </tr>\n",
              "    <tr>\n",
              "      <th>1</th>\n",
              "      <td>M1B</td>\n",
              "      <td>Scarborough</td>\n",
              "      <td>Malvern</td>\n",
              "    </tr>\n",
              "    <tr>\n",
              "      <th>2</th>\n",
              "      <td>M1C</td>\n",
              "      <td>Scarborough</td>\n",
              "      <td>Highland Creek</td>\n",
              "    </tr>\n",
              "    <tr>\n",
              "      <th>3</th>\n",
              "      <td>M1C</td>\n",
              "      <td>Scarborough</td>\n",
              "      <td>Rouge Hill</td>\n",
              "    </tr>\n",
              "    <tr>\n",
              "      <th>4</th>\n",
              "      <td>M1C</td>\n",
              "      <td>Scarborough</td>\n",
              "      <td>Port Union</td>\n",
              "    </tr>\n",
              "  </tbody>\n",
              "</table>\n",
              "</div>"
            ],
            "text/plain": [
              "  Postcode      Borough   Neighbourhood\n",
              "0      M1B  Scarborough           Rouge\n",
              "1      M1B  Scarborough         Malvern\n",
              "2      M1C  Scarborough  Highland Creek\n",
              "3      M1C  Scarborough      Rouge Hill\n",
              "4      M1C  Scarborough      Port Union"
            ]
          },
          "metadata": {
            "tags": []
          },
          "execution_count": 7
        }
      ]
    },
    {
      "metadata": {
        "id": "ry18eLFX8EjR",
        "colab_type": "code",
        "colab": {}
      },
      "cell_type": "code",
      "source": [
        "df_postcodes = df1['Postcode']\n",
        "df_postcodes.drop_duplicates(inplace=True)\n",
        "df2 = pd.DataFrame(df_postcodes)\n",
        "df2['Borough'] = '';\n",
        "df2['Neighbourhood'] = '';\n",
        "\n",
        "\n",
        "df2.reset_index(inplace=True)\n",
        "df2.drop('index', axis=1, inplace=True)\n",
        "df1.reset_index(inplace=True)\n",
        "df1.drop('index', axis=1, inplace=True)\n",
        "\n",
        "for i in df2.index:\n",
        "    for j in df1.index:\n",
        "        if df2.iloc[i, 0] == df1.iloc[j, 0]:\n",
        "            df2.iloc[i, 1] = df1.iloc[j, 1]\n",
        "            df2.iloc[i, 2] = df2.iloc[i, 2] + ',' + df1.iloc[j, 2]\n",
        "            \n",
        "for i in df2.index:\n",
        "    s = df2.iloc[i, 2]\n",
        "    if s[0] == ',':\n",
        "        s =s [1:]\n",
        "    df2.iloc[i,2 ] = s"
      ],
      "execution_count": 0,
      "outputs": []
    },
    {
      "metadata": {
        "id": "xoEsBTp78EjU",
        "colab_type": "code",
        "colab": {
          "base_uri": "https://localhost:8080/",
          "height": 34
        },
        "outputId": "f157fb3d-9a8a-4f98-dd5f-65203da64973"
      },
      "cell_type": "code",
      "source": [
        "df2.shape"
      ],
      "execution_count": 9,
      "outputs": [
        {
          "output_type": "execute_result",
          "data": {
            "text/plain": [
              "(103, 3)"
            ]
          },
          "metadata": {
            "tags": []
          },
          "execution_count": 9
        }
      ]
    },
    {
      "metadata": {
        "id": "KBmpg8l-8lsV",
        "colab_type": "code",
        "colab": {}
      },
      "cell_type": "code",
      "source": [
        ""
      ],
      "execution_count": 0,
      "outputs": []
    }
  ]
}